{
 "cells": [
  {
   "cell_type": "code",
   "execution_count": 1,
   "id": "1bbfcb8d",
   "metadata": {},
   "outputs": [],
   "source": [
    "from sklearn.linear_model import Perceptron\n",
    "from sklearn.svm import SVC\n",
    "from sklearn.tree import DecisionTreeClassifier\n",
    "from sklearn.ensemble import RandomForestClassifier\n",
    "from sklearn.pipeline import Pipeline, make_pipeline\n",
    "from sklearn.preprocessing import StandardScaler\n",
    "import numpy as np"
   ]
  },
  {
   "cell_type": "code",
   "execution_count": null,
   "id": "cdffa9a5",
   "metadata": {},
   "outputs": [],
   "source": [
    "np.random.seed(42)"
   ]
  },
  {
   "cell_type": "code",
   "execution_count": 2,
   "id": "6afc6186",
   "metadata": {},
   "outputs": [],
   "source": [
    "def Perceptron_Model(X_train, y_train, X_test):\n",
    "    clp= Perceptron().fit(X_train, y_train)\n",
    "    mlp_pred = clp.predict(X_test)\n",
    "    return mlp_pred, clp\n",
    "\n"
   ]
  },
  {
   "cell_type": "code",
   "execution_count": 3,
   "id": "5c3eff19",
   "metadata": {},
   "outputs": [],
   "source": [
    "def Decision_Tree_Model(X_train, y_train, X_test):\n",
    "    clf = DecisionTreeClassifier()\n",
    "    clf = clf.fit(X_train,y_train)\n",
    "    y_predict_dt = clf.predict(X_test)\n",
    "    return y_predict_dt, clf"
   ]
  },
  {
   "cell_type": "code",
   "execution_count": 4,
   "id": "a2ee0f86",
   "metadata": {},
   "outputs": [],
   "source": [
    "def Random_Forest_Model(X_train, y_train, X_test):\n",
    "    clr = RandomForestClassifier()\n",
    "    clr.fit(X_train, y_train)\n",
    "    y_predict_rf = clr.predict(X_test)\n",
    "    return y_predict_rf, clr"
   ]
  },
  {
   "cell_type": "code",
   "execution_count": 5,
   "id": "1d5eab49",
   "metadata": {},
   "outputs": [],
   "source": [
    "def SVM_Model(X_train, y_train, X_test):\n",
    "    cls = make_pipeline(StandardScaler(), SVC())\n",
    "    cls.fit(X_train, y_train)\n",
    "    y_predict_svm = cls.predict(X_test)\n",
    "    return y_predict_svm, cls"
   ]
  }
 ],
 "metadata": {
  "kernelspec": {
   "display_name": "Python 3",
   "language": "python",
   "name": "python3"
  },
  "language_info": {
   "codemirror_mode": {
    "name": "ipython",
    "version": 3
   },
   "file_extension": ".py",
   "mimetype": "text/x-python",
   "name": "python",
   "nbconvert_exporter": "python",
   "pygments_lexer": "ipython3",
   "version": "3.8.8"
  },
  "varInspector": {
   "cols": {
    "lenName": 16,
    "lenType": 16,
    "lenVar": 40
   },
   "kernels_config": {
    "python": {
     "delete_cmd_postfix": "",
     "delete_cmd_prefix": "del ",
     "library": "var_list.py",
     "varRefreshCmd": "print(var_dic_list())"
    },
    "r": {
     "delete_cmd_postfix": ") ",
     "delete_cmd_prefix": "rm(",
     "library": "var_list.r",
     "varRefreshCmd": "cat(var_dic_list()) "
    }
   },
   "types_to_exclude": [
    "module",
    "function",
    "builtin_function_or_method",
    "instance",
    "_Feature"
   ],
   "window_display": false
  }
 },
 "nbformat": 4,
 "nbformat_minor": 5
}
